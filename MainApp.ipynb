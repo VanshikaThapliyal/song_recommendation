{
 "cells": [
  {
   "cell_type": "code",
   "execution_count": 10,
   "id": "ab46fae7",
   "metadata": {},
   "outputs": [],
   "source": [
    "import streamlit as st\n",
    "st.set_page_config(page_title=\"Song Recommendation\",layout=\"wide\")\n",
    "import pandas as pd\n",
    "from sklearn.neighbors import NearestNeighbors\n",
    "import plotly.express as px\n",
    "import streamlit.components.v1 as components"
   ]
  },
  {
   "cell_type": "code",
   "execution_count": 16,
   "id": "cac75444",
   "metadata": {},
   "outputs": [],
   "source": [
    "@st.cache(allow_output_mutation=True)\n",
    "def load_data():\n",
    "    df = pd.read_csv(\"C:/Users/vanshika/filtered_track_df.csv\")\n",
    "    df['genres'] = df.genres.apply(lambda x: [i[1:-1] for i in str(x)[1:-1].split(\", \")])\n",
    "    exploded_track_df = df.explode(\"genres\")\n",
    "    return exploded_track_df"
   ]
  },
  {
   "cell_type": "code",
   "execution_count": 12,
   "id": "34bc654f",
   "metadata": {},
   "outputs": [],
   "source": [
    "genre_names = ['Dance Pop', 'Electronic', 'Electropop', 'Hip Hop', 'Jazz', 'K-pop', 'Latin', 'Pop', 'Pop Rap', 'R&B', 'Rock']\n",
    "audio_feats = [\"acousticness\", \"danceability\", \"energy\", \"instrumentalness\", \"valence\", \"tempo\"]\n",
    "#exploded_track_df = load_data()"
   ]
  },
  {
   "cell_type": "code",
   "execution_count": 13,
   "id": "75623529",
   "metadata": {},
   "outputs": [],
   "source": [
    "def n_neighbors_uri_audio(genre, start_year, end_year, test_feat):\n",
    "    genre = genre.lower()\n",
    "    genre_data = exploded_track_df[(exploded_track_df[\"genres\"]==genre) & (exploded_track_df[\"release_year\"]>=start_year) & (exploded_track_df[\"release_year\"]<=end_year)]\n",
    "    genre_data = genre_data.sort_values(by='popularity', ascending=False)[:500]\n",
    "    neigh = NearestNeighbors()\n",
    "    neigh.fit(genre_data[audio_feats].to_numpy())\n",
    "    n_neighbors = neigh.kneighbors([test_feat],       n_neighbors=len(genre_data), return_distance=False)[0]\n",
    "    uris = genre_data.iloc[n_neighbors][\"uri\"].tolist()\n",
    "    audios = genre_data.iloc[n_neighbors][audio_feats].to_numpy()\n",
    "    return uris, audios"
   ]
  }
 ],
 "metadata": {
  "kernelspec": {
   "display_name": "Python 3 (ipykernel)",
   "language": "python",
   "name": "python3"
  },
  "language_info": {
   "codemirror_mode": {
    "name": "ipython",
    "version": 3
   },
   "file_extension": ".py",
   "mimetype": "text/x-python",
   "name": "python",
   "nbconvert_exporter": "python",
   "pygments_lexer": "ipython3",
   "version": "3.9.12"
  }
 },
 "nbformat": 4,
 "nbformat_minor": 5
}
